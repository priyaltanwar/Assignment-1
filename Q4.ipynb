{
 "cells": [
  {
   "cell_type": "code",
   "execution_count": 1,
   "id": "b42d69ec-f352-4a01-95ab-47b36a7a9a16",
   "metadata": {},
   "outputs": [],
   "source": [
    "Z = [\"apples\", 22, 34.87, 5+2j, False, 199, \"mango\", \"orange\", 33. , True]"
   ]
  },
  {
   "cell_type": "code",
   "execution_count": 4,
   "id": "5cc9641b-aaaf-46aa-a818-b1176382826c",
   "metadata": {},
   "outputs": [
    {
     "ename": "SyntaxError",
     "evalue": "incomplete input (2986409942.py, line 3)",
     "output_type": "error",
     "traceback": [
      "\u001b[0;36m  Cell \u001b[0;32mIn[4], line 3\u001b[0;36m\u001b[0m\n\u001b[0;31m    print(type(i)\u001b[0m\n\u001b[0m                 ^\u001b[0m\n\u001b[0;31mSyntaxError\u001b[0m\u001b[0;31m:\u001b[0m incomplete input\n"
     ]
    }
   ],
   "source": [
    "for i in Z:\n",
    "    print (i)\n",
    "    print(type(i)"
   ]
  },
  {
   "cell_type": "code",
   "execution_count": null,
   "id": "19e889ac-08cd-460d-aa16-2ae1b83d4060",
   "metadata": {},
   "outputs": [],
   "source": []
  }
 ],
 "metadata": {
  "kernelspec": {
   "display_name": "Python 3 (ipykernel)",
   "language": "python",
   "name": "python3"
  },
  "language_info": {
   "codemirror_mode": {
    "name": "ipython",
    "version": 3
   },
   "file_extension": ".py",
   "mimetype": "text/x-python",
   "name": "python",
   "nbconvert_exporter": "python",
   "pygments_lexer": "ipython3",
   "version": "3.10.8"
  }
 },
 "nbformat": 4,
 "nbformat_minor": 5
}
