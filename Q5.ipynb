{
 "cells": [
  {
   "cell_type": "code",
   "execution_count": 13,
   "id": "81486275-c588-4537-9c52-357b91daa4db",
   "metadata": {},
   "outputs": [
    {
     "name": "stdin",
     "output_type": "stream",
     "text": [
      "Enter number A:  22\n",
      "Enter number B:  3\n"
     ]
    },
    {
     "name": "stdout",
     "output_type": "stream",
     "text": [
      "22 is not purely divisible by 3. The remainder is 22.\n"
     ]
    }
   ],
   "source": [
    "# Input numbers A and B\n",
    "A = int(input(\"Enter number A: \"))\n",
    "B = int(input(\"Enter number B: \"))\n",
    "\n",
    "# Initialize a counter to keep track of how many times A can be divided by B\n",
    "count = 0\n",
    "temp = A\n",
    "# Check if B is not zero to avoid division by zero error\n",
    "if B != 0:\n",
    "    # While A is greater than or equal to B, keep dividing A by B\n",
    "    while A >= B:\n",
    "        \n",
    "        A -= B  # Reduce A by B\n",
    "        count += 1  # Increment the counter\n",
    "\n",
    "    # Print the result\n",
    "    if A == 0:\n",
    "        print(f\"{temp} is purely divisible by {B}, and it can be divided {count} times.\")\n",
    "    else:\n",
    "        print(f\"{temp} is not purely divisible by {B}. The remainder is {temp}.\")\n",
    "else:\n",
    "    print(\"B cannot be zero. Division by zero is not allowed.\")\n"
   ]
  },
  {
   "cell_type": "code",
   "execution_count": null,
   "id": "12e9d62f-533b-4f17-911e-4696f72c4328",
   "metadata": {},
   "outputs": [],
   "source": []
  }
 ],
 "metadata": {
  "kernelspec": {
   "display_name": "Python 3 (ipykernel)",
   "language": "python",
   "name": "python3"
  },
  "language_info": {
   "codemirror_mode": {
    "name": "ipython",
    "version": 3
   },
   "file_extension": ".py",
   "mimetype": "text/x-python",
   "name": "python",
   "nbconvert_exporter": "python",
   "pygments_lexer": "ipython3",
   "version": "3.10.8"
  }
 },
 "nbformat": 4,
 "nbformat_minor": 5
}
