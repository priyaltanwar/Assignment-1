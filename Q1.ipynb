{
 "cells": [
  {
   "cell_type": "code",
   "execution_count": 1,
   "id": "439b5a45-feac-418c-ba35-f4bd1ec05e83",
   "metadata": {},
   "outputs": [],
   "source": [
    "a = \"Pri\""
   ]
  },
  {
   "cell_type": "code",
   "execution_count": 2,
   "id": "cb10588f-f9ce-46ad-b1be-aa06410d2ab1",
   "metadata": {},
   "outputs": [],
   "source": [
    "b = [2, 45.3, \"pwskills\", False]"
   ]
  },
  {
   "cell_type": "code",
   "execution_count": 3,
   "id": "2ba1c3d6-7160-42db-bb03-762738c631fa",
   "metadata": {},
   "outputs": [],
   "source": [
    "c = 213.3"
   ]
  },
  {
   "cell_type": "code",
   "execution_count": 4,
   "id": "6b2bc65e-5edc-4a08-b9bc-452c48522062",
   "metadata": {},
   "outputs": [],
   "source": [
    "d = (\"Ramesh\", 29, True, \"Ramesh\", \"male\")"
   ]
  }
 ],
 "metadata": {
  "kernelspec": {
   "display_name": "Python 3 (ipykernel)",
   "language": "python",
   "name": "python3"
  },
  "language_info": {
   "codemirror_mode": {
    "name": "ipython",
    "version": 3
   },
   "file_extension": ".py",
   "mimetype": "text/x-python",
   "name": "python",
   "nbconvert_exporter": "python",
   "pygments_lexer": "ipython3",
   "version": "3.10.8"
  }
 },
 "nbformat": 4,
 "nbformat_minor": 5
}
