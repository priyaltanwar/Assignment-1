{
 "cells": [
  {
   "cell_type": "code",
   "execution_count": 14,
   "id": "1cb174e6-910e-432f-ae5e-c3bf1a05fc42",
   "metadata": {},
   "outputs": [],
   "source": [
    "a = [2, 17, 93, 24, 36, 66, 78, 74, 80, 53, 48, 60, 43, 15, 67, 87, 32, 57, 42, 4, 59, 89, 97, 28, 100]"
   ]
  },
  {
   "cell_type": "code",
   "execution_count": 17,
   "id": "3cbfa61c-230d-48c8-9097-88b2f60045c1",
   "metadata": {},
   "outputs": [
    {
     "name": "stdout",
     "output_type": "stream",
     "text": [
      "2 is not divisible by 3\n",
      "17 is not divisible by 3\n",
      "93 is divisible by 3\n",
      "24 is divisible by 3\n",
      "36 is divisible by 3\n",
      "66 is divisible by 3\n",
      "78 is divisible by 3\n",
      "74 is not divisible by 3\n",
      "80 is not divisible by 3\n",
      "53 is not divisible by 3\n",
      "48 is divisible by 3\n",
      "60 is divisible by 3\n",
      "43 is not divisible by 3\n",
      "15 is divisible by 3\n",
      "67 is not divisible by 3\n",
      "87 is divisible by 3\n",
      "32 is not divisible by 3\n",
      "57 is divisible by 3\n",
      "42 is divisible by 3\n",
      "4 is not divisible by 3\n",
      "59 is not divisible by 3\n",
      "89 is not divisible by 3\n",
      "97 is not divisible by 3\n",
      "28 is not divisible by 3\n",
      "100 is not divisible by 3\n"
     ]
    }
   ],
   "source": [
    "for i in a:\n",
    "    if i%3 == 0:\n",
    "        print((i), \"is divisible by 3\")\n",
    "        i += 1\n",
    "    else:\n",
    "        print((i), \"is not divisible by 3\")\n",
    "        "
   ]
  },
  {
   "cell_type": "code",
   "execution_count": null,
   "id": "76e046d1-b0c2-438f-b5ba-51101e8e1fa0",
   "metadata": {},
   "outputs": [],
   "source": []
  }
 ],
 "metadata": {
  "kernelspec": {
   "display_name": "Python 3 (ipykernel)",
   "language": "python",
   "name": "python3"
  },
  "language_info": {
   "codemirror_mode": {
    "name": "ipython",
    "version": 3
   },
   "file_extension": ".py",
   "mimetype": "text/x-python",
   "name": "python",
   "nbconvert_exporter": "python",
   "pygments_lexer": "ipython3",
   "version": "3.10.8"
  }
 },
 "nbformat": 4,
 "nbformat_minor": 5
}
